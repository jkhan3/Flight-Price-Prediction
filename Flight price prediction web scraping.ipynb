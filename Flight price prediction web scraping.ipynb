{
 "cells": [
  {
   "cell_type": "code",
   "execution_count": 26,
   "id": "2590cc1d",
   "metadata": {},
   "outputs": [],
   "source": [
    "import selenium\n",
    "import pandas as pd\n",
    "from selenium import webdriver\n",
    "from bs4 import BeautifulSoup\n",
    "import requests\n",
    "import time\n",
    "from selenium.common.exceptions import NoSuchElementException\n",
    "from selenium.webdriver.common.keys import Keys\n",
    "\n",
    "import warnings\n",
    "warnings.filterwarnings('ignore')"
   ]
  },
  {
   "cell_type": "code",
   "execution_count": 27,
   "id": "6f235b97",
   "metadata": {},
   "outputs": [],
   "source": [
    "# Connecting to the webdriver\n",
    "driver = webdriver.Chrome(r\"C:\\Users\\Admin\\Downloads\\chromedriver_win32\\chromedriver.exe\")"
   ]
  },
  {
   "cell_type": "code",
   "execution_count": 28,
   "id": "79b225dd",
   "metadata": {},
   "outputs": [],
   "source": [
    "#opening website from where we need to fetch data\n",
    "driver.get(\"https://paytm.com/\")"
   ]
  },
  {
   "cell_type": "code",
   "execution_count": 29,
   "id": "40403af6",
   "metadata": {},
   "outputs": [],
   "source": [
    "for i in driver.find_elements_by_xpath('/html/body/div[1]/div/section[4]/div/div/div/div[2]'):\n",
    "    i.click()"
   ]
  },
  {
   "cell_type": "code",
   "execution_count": 30,
   "id": "50ab4029",
   "metadata": {},
   "outputs": [],
   "source": [
    "driver.get(\"https://paytm.com/flights/flightSearch/BLR-Bengaluru/PNQ-Pune/1/0/0/E/2022-03-28\")"
   ]
  },
  {
   "cell_type": "code",
   "execution_count": 31,
   "id": "f486d1af",
   "metadata": {},
   "outputs": [],
   "source": [
    "urls=[]\n",
    "sou=[\"BLR-Bengaluru\",\"CCU-Kolkata\"]# passing source location\n",
    "location = [\"DEL-Delhi\",\"PNQ-Pune\",\"MAA-Chennai\",\"HYD-Hyderabad\"] #passing destination \n",
    "# passing random date on which flight is schedule\n",
    "date_list=[\"2022-03-28\",\"2022-04-05\",\"2022-03-30\",\"2022-04-04\",\"2022-04-12\",\"2022-03-06\",\"2022-04-21\",\"2022-04-15\",\"2022-03-09\",\"2022-04-07\"]\n",
    "for i in range(0,2):\n",
    "    for j in range(0,4):\n",
    "            for k in range(0,10):\n",
    "                url=\"https://paytm.com/flights/flightSearch/\"+sou[i]+\"/\"+location[j]+\"/1/0/0/E/\"+date_list[k] #as url is a string we can manipulate it and make changes according to our needs\n",
    "                urls.append(url)"
   ]
  },
  {
   "cell_type": "code",
   "execution_count": 32,
   "id": "c98a0663",
   "metadata": {},
   "outputs": [
    {
     "data": {
      "text/plain": [
       "80"
      ]
     },
     "execution_count": 32,
     "metadata": {},
     "output_type": "execute_result"
    }
   ],
   "source": [
    "len(urls)#checking len of url how many url we have fetched"
   ]
  },
  {
   "cell_type": "code",
   "execution_count": 33,
   "id": "d523b513",
   "metadata": {},
   "outputs": [],
   "source": [
    "# making list of features i am going to fetch \n",
    "name=[]\n",
    "departure_time=[]\n",
    "arrival_time=[]\n",
    "dur=[]\n",
    "price=[]\n",
    "stop=[]\n",
    "place=[]\n",
    "date=[]\n",
    "for url in urls:\n",
    "    driver.get(url)\n",
    "    time.sleep(5)\n",
    "    \n",
    "    for k in driver.find_elements_by_xpath('//div[@class=\"_3H-S _1Eia\"]'):\n",
    "        name.append(k.text)\n",
    "            \n",
    "    for k in driver.find_elements_by_xpath('//div[@class=\"_3H-S\"]'):\n",
    "        departure_time.append(k.text)\n",
    "        \n",
    "    for i in driver.find_elements_by_xpath('//div[@class=\"_3H-S _1wD5\"]'):\n",
    "        arrival_time.append(i.text.split(\"\\n\")[0])\n",
    "        \n",
    "    for i in driver.find_elements_by_xpath('//div[@class=\"vY4t\"]'):\n",
    "        dur.append(i.text)\n",
    "        \n",
    "    for i in driver.find_elements_by_xpath('//div[@class=\"_1cxG\"]'):\n",
    "        price.append(int(i.text.replace(\",\",\"\")))\n",
    "        \n",
    "    for i in driver.find_elements_by_xpath('//div[@class=\"_7BOG\"]'):\n",
    "        stop.append(i.text.split()[0])\n",
    "        \n",
    "    for i in driver.find_elements_by_xpath('//div[@class=\"NqXj\"]'):\n",
    "        place.append(i.text)\n",
    "        \n",
    "    for i in range(0,len(driver.find_elements_by_xpath('//div[@class=\"_1cxG\"]'))):\n",
    "               date.append(url.split('/')[11])"
   ]
  },
  {
   "cell_type": "code",
   "execution_count": 34,
   "id": "84467786",
   "metadata": {},
   "outputs": [],
   "source": [
    "source=place[0::2]\n",
    "destination=place[1::2]"
   ]
  },
  {
   "cell_type": "code",
   "execution_count": 35,
   "id": "4fa439b3",
   "metadata": {},
   "outputs": [
    {
     "name": "stdout",
     "output_type": "stream",
     "text": [
      "9307 9307 9307 9307 9307 9307 9307 9307\n"
     ]
    }
   ],
   "source": [
    "print(len(arrival_time),len(dur),len(price),len(name),len(departure_time),len(source),len(destination),len(date))"
   ]
  },
  {
   "cell_type": "code",
   "execution_count": 36,
   "id": "9cc2bc3a",
   "metadata": {},
   "outputs": [],
   "source": [
    "# this is the dataframe i have fetched\n",
    "flight=pd.DataFrame({\"Flight name\":name,\n",
    "                 \"Departure_time\":departure_time,\n",
    "                 \"Arrival_time\":arrival_time,\n",
    "                 \"Price\":price,\n",
    "                 \"Source\":source,\n",
    "                 \"Destination\":destination,\n",
    "                  \"Duration\":dur,\n",
    "                 \"No of stop\":stop,\n",
    "                 \"Date\":date})"
   ]
  },
  {
   "cell_type": "code",
   "execution_count": 37,
   "id": "7dd78a69",
   "metadata": {},
   "outputs": [
    {
     "data": {
      "text/html": [
       "<div>\n",
       "<style scoped>\n",
       "    .dataframe tbody tr th:only-of-type {\n",
       "        vertical-align: middle;\n",
       "    }\n",
       "\n",
       "    .dataframe tbody tr th {\n",
       "        vertical-align: top;\n",
       "    }\n",
       "\n",
       "    .dataframe thead th {\n",
       "        text-align: right;\n",
       "    }\n",
       "</style>\n",
       "<table border=\"1\" class=\"dataframe\">\n",
       "  <thead>\n",
       "    <tr style=\"text-align: right;\">\n",
       "      <th></th>\n",
       "      <th>Flight name</th>\n",
       "      <th>Departure_time</th>\n",
       "      <th>Arrival_time</th>\n",
       "      <th>Price</th>\n",
       "      <th>Source</th>\n",
       "      <th>Destination</th>\n",
       "      <th>Duration</th>\n",
       "      <th>No of stop</th>\n",
       "      <th>Date</th>\n",
       "    </tr>\n",
       "  </thead>\n",
       "  <tbody>\n",
       "    <tr>\n",
       "      <th>0</th>\n",
       "      <td>IndiGo</td>\n",
       "      <td>20:05</td>\n",
       "      <td>00:50</td>\n",
       "      <td>2191</td>\n",
       "      <td>Bengaluru</td>\n",
       "      <td>Delhi</td>\n",
       "      <td>4h 45m</td>\n",
       "      <td>1</td>\n",
       "      <td>2022-03-28</td>\n",
       "    </tr>\n",
       "    <tr>\n",
       "      <th>1</th>\n",
       "      <td>IndiGo</td>\n",
       "      <td>23:05</td>\n",
       "      <td>04:15</td>\n",
       "      <td>2356</td>\n",
       "      <td>Bengaluru</td>\n",
       "      <td>Delhi</td>\n",
       "      <td>5h 10m</td>\n",
       "      <td>1</td>\n",
       "      <td>2022-03-28</td>\n",
       "    </tr>\n",
       "    <tr>\n",
       "      <th>2</th>\n",
       "      <td>IndiGo</td>\n",
       "      <td>17:10</td>\n",
       "      <td>22:45</td>\n",
       "      <td>2356</td>\n",
       "      <td>Bengaluru</td>\n",
       "      <td>Delhi</td>\n",
       "      <td>5h 35m</td>\n",
       "      <td>1</td>\n",
       "      <td>2022-03-28</td>\n",
       "    </tr>\n",
       "    <tr>\n",
       "      <th>3</th>\n",
       "      <td>IndiGo</td>\n",
       "      <td>20:15</td>\n",
       "      <td>02:10</td>\n",
       "      <td>2356</td>\n",
       "      <td>Bengaluru</td>\n",
       "      <td>Delhi</td>\n",
       "      <td>5h 55m</td>\n",
       "      <td>1</td>\n",
       "      <td>2022-03-28</td>\n",
       "    </tr>\n",
       "    <tr>\n",
       "      <th>4</th>\n",
       "      <td>IndiGo</td>\n",
       "      <td>11:20</td>\n",
       "      <td>18:30</td>\n",
       "      <td>2356</td>\n",
       "      <td>Bengaluru</td>\n",
       "      <td>Delhi</td>\n",
       "      <td>7h 10m</td>\n",
       "      <td>1</td>\n",
       "      <td>2022-03-28</td>\n",
       "    </tr>\n",
       "    <tr>\n",
       "      <th>...</th>\n",
       "      <td>...</td>\n",
       "      <td>...</td>\n",
       "      <td>...</td>\n",
       "      <td>...</td>\n",
       "      <td>...</td>\n",
       "      <td>...</td>\n",
       "      <td>...</td>\n",
       "      <td>...</td>\n",
       "      <td>...</td>\n",
       "    </tr>\n",
       "    <tr>\n",
       "      <th>9302</th>\n",
       "      <td>Vistara</td>\n",
       "      <td>10:25</td>\n",
       "      <td>22:55</td>\n",
       "      <td>7451</td>\n",
       "      <td>Kolkata</td>\n",
       "      <td>Hyderabad</td>\n",
       "      <td>12h 30m</td>\n",
       "      <td>2</td>\n",
       "      <td>2022-04-07</td>\n",
       "    </tr>\n",
       "    <tr>\n",
       "      <th>9303</th>\n",
       "      <td>Vistara</td>\n",
       "      <td>10:25</td>\n",
       "      <td>22:55</td>\n",
       "      <td>7851</td>\n",
       "      <td>Kolkata</td>\n",
       "      <td>Hyderabad</td>\n",
       "      <td>12h 30m</td>\n",
       "      <td>2</td>\n",
       "      <td>2022-04-07</td>\n",
       "    </tr>\n",
       "    <tr>\n",
       "      <th>9304</th>\n",
       "      <td>Air India</td>\n",
       "      <td>10:25</td>\n",
       "      <td>17:35</td>\n",
       "      <td>8614</td>\n",
       "      <td>Kolkata</td>\n",
       "      <td>Hyderabad</td>\n",
       "      <td>31h 10m</td>\n",
       "      <td>3</td>\n",
       "      <td>2022-04-07</td>\n",
       "    </tr>\n",
       "    <tr>\n",
       "      <th>9305</th>\n",
       "      <td>Air India</td>\n",
       "      <td>06:55</td>\n",
       "      <td>17:35</td>\n",
       "      <td>8614</td>\n",
       "      <td>Kolkata</td>\n",
       "      <td>Hyderabad</td>\n",
       "      <td>34h 40m</td>\n",
       "      <td>3</td>\n",
       "      <td>2022-04-07</td>\n",
       "    </tr>\n",
       "    <tr>\n",
       "      <th>9306</th>\n",
       "      <td>SpiceJet</td>\n",
       "      <td>14:15</td>\n",
       "      <td>20:40</td>\n",
       "      <td>9530</td>\n",
       "      <td>Kolkata</td>\n",
       "      <td>Hyderabad</td>\n",
       "      <td>6h 25m</td>\n",
       "      <td>1</td>\n",
       "      <td>2022-04-07</td>\n",
       "    </tr>\n",
       "  </tbody>\n",
       "</table>\n",
       "<p>9307 rows × 9 columns</p>\n",
       "</div>"
      ],
      "text/plain": [
       "     Flight name Departure_time Arrival_time  Price     Source Destination  \\\n",
       "0         IndiGo          20:05        00:50   2191  Bengaluru       Delhi   \n",
       "1         IndiGo          23:05        04:15   2356  Bengaluru       Delhi   \n",
       "2         IndiGo          17:10        22:45   2356  Bengaluru       Delhi   \n",
       "3         IndiGo          20:15        02:10   2356  Bengaluru       Delhi   \n",
       "4         IndiGo          11:20        18:30   2356  Bengaluru       Delhi   \n",
       "...          ...            ...          ...    ...        ...         ...   \n",
       "9302     Vistara          10:25        22:55   7451    Kolkata   Hyderabad   \n",
       "9303     Vistara          10:25        22:55   7851    Kolkata   Hyderabad   \n",
       "9304   Air India          10:25        17:35   8614    Kolkata   Hyderabad   \n",
       "9305   Air India          06:55        17:35   8614    Kolkata   Hyderabad   \n",
       "9306    SpiceJet          14:15        20:40   9530    Kolkata   Hyderabad   \n",
       "\n",
       "     Duration No of stop        Date  \n",
       "0      4h 45m          1  2022-03-28  \n",
       "1      5h 10m          1  2022-03-28  \n",
       "2      5h 35m          1  2022-03-28  \n",
       "3      5h 55m          1  2022-03-28  \n",
       "4      7h 10m          1  2022-03-28  \n",
       "...       ...        ...         ...  \n",
       "9302  12h 30m          2  2022-04-07  \n",
       "9303  12h 30m          2  2022-04-07  \n",
       "9304  31h 10m          3  2022-04-07  \n",
       "9305  34h 40m          3  2022-04-07  \n",
       "9306   6h 25m          1  2022-04-07  \n",
       "\n",
       "[9307 rows x 9 columns]"
      ]
     },
     "execution_count": 37,
     "metadata": {},
     "output_type": "execute_result"
    }
   ],
   "source": [
    "flight"
   ]
  },
  {
   "cell_type": "code",
   "execution_count": 38,
   "id": "2e3e2bf5",
   "metadata": {},
   "outputs": [],
   "source": [
    "flight.to_csv(\"flight_fare.csv\")#saving dataframe to csv format"
   ]
  },
  {
   "cell_type": "code",
   "execution_count": null,
   "id": "e450a69a",
   "metadata": {},
   "outputs": [],
   "source": []
  },
  {
   "cell_type": "code",
   "execution_count": null,
   "id": "2706a1c4",
   "metadata": {},
   "outputs": [],
   "source": []
  }
 ],
 "metadata": {
  "kernelspec": {
   "display_name": "Python 3",
   "language": "python",
   "name": "python3"
  },
  "language_info": {
   "codemirror_mode": {
    "name": "ipython",
    "version": 3
   },
   "file_extension": ".py",
   "mimetype": "text/x-python",
   "name": "python",
   "nbconvert_exporter": "python",
   "pygments_lexer": "ipython3",
   "version": "3.8.8"
  }
 },
 "nbformat": 4,
 "nbformat_minor": 5
}
